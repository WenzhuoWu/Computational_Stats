{
 "cells": [
  {
   "cell_type": "code",
   "execution_count": 588,
   "metadata": {},
   "outputs": [],
   "source": [
    "import idx2numpy\n",
    "import numpy as np\n",
    "import matplotlib.pyplot as plt"
   ]
  },
  {
   "cell_type": "code",
   "execution_count": 589,
   "metadata": {},
   "outputs": [],
   "source": [
    "X_train = idx2numpy.convert_from_file('train-images.idx3-ubyte')\n",
    "Y_train = idx2numpy.convert_from_file('train-labels.idx1-ubyte')\n",
    "X_test = idx2numpy.convert_from_file('t10k-images.idx3-ubyte')\n",
    "Y_test = idx2numpy.convert_from_file('t10k-labels.idx1-ubyte')"
   ]
  },
  {
   "cell_type": "code",
   "execution_count": 590,
   "metadata": {},
   "outputs": [
    {
     "data": {
      "text/plain": [
       "((60000, 28, 28), (60000,), (10000, 28, 28), (10000,))"
      ]
     },
     "execution_count": 590,
     "metadata": {},
     "output_type": "execute_result"
    }
   ],
   "source": [
    "X_train.shape, Y_train.shape, X_test.shape, Y_test.shape"
   ]
  },
  {
   "cell_type": "code",
   "execution_count": 591,
   "metadata": {},
   "outputs": [
    {
     "data": {
      "text/plain": [
       "<matplotlib.image.AxesImage at 0x7fcf41a85160>"
      ]
     },
     "execution_count": 591,
     "metadata": {},
     "output_type": "execute_result"
    },
    {
     "data": {
      "image/png": "[encoded data removed]",
      "text/plain": [
       "<Figure size 432x288 with 1 Axes>"
      ]
     },
     "metadata": {
      "needs_background": "light"
     },
     "output_type": "display_data"
    }
   ],
   "source": [
    "plt.imshow(X_train[1])"
   ]
  },
  {
   "cell_type": "code",
   "execution_count": 592,
   "metadata": {},
   "outputs": [],
   "source": [
    "X_train_r = np.empty([X_train.shape[0],14,14])\n",
    "X_test_r = np.empty([X_test.shape[0],14,14])\n",
    "\n",
    "A = np.zeros((14,28))\n",
    "for i in range(14):\n",
    "    A[i,(2*i):(2*i+2)] = 1\n",
    "for k in range(X_train.shape[0]):\n",
    "    X_train_r[k,:,:] = A@X_train[k,:,:]@A.T/4\n",
    "    \n",
    "for k in range(X_test.shape[0]):\n",
    "    X_test_r[k,:,:] = A@X_test[k,:,:]@A.T/4\n",
    "    "
   ]
  },
  {
   "cell_type": "code",
   "execution_count": 593,
   "metadata": {},
   "outputs": [
    {
     "data": {
      "text/plain": [
       "((60000, 14, 14), (10000, 14, 14))"
      ]
     },
     "execution_count": 593,
     "metadata": {},
     "output_type": "execute_result"
    }
   ],
   "source": [
    "X_train_r.shape,X_test_r.shape"
   ]
  },
  {
   "cell_type": "code",
   "execution_count": 594,
   "metadata": {},
   "outputs": [
    {
     "data": {
      "text/plain": [
       "<matplotlib.image.AxesImage at 0x7fcfb1372c40>"
      ]
     },
     "execution_count": 594,
     "metadata": {},
     "output_type": "execute_result"
    },
    {
     "data": {
      "image/png": "[encoded data removed]",
      "text/plain": [
       "<Figure size 432x288 with 1 Axes>"
      ]
     },
     "metadata": {
      "needs_background": "light"
     },
     "output_type": "display_data"
    }
   ],
   "source": [
    "plt.imshow(X_train_r[1])"
   ]
  },
  {
   "cell_type": "code",
   "execution_count": 595,
   "metadata": {},
   "outputs": [
    {
     "data": {
      "text/plain": [
       "(5139, 196)"
      ]
     },
     "execution_count": 595,
     "metadata": {},
     "output_type": "execute_result"
    }
   ],
   "source": [
    "X_train_ = np.reshape(X_train_r,(60000,14*14))[Y_train<=4,:] # subset\n",
    "X_test_ = np.reshape(X_test_r,(10000,14*14))[Y_test<=4,:] # subset\n",
    "X_train_.shape,\n",
    "X_test_.shape"
   ]
  },
  {
   "cell_type": "code",
   "execution_count": 465,
   "metadata": {},
   "outputs": [],
   "source": [
    "N = 300\n",
    "np.random.seed(3)\n",
    "m1, cov1 = [9, 8], [[.5, 0], [0, .5]] ## first gaussian\n",
    "data1 = np.random.multivariate_normal(m1, cov1, N)\n",
    "label1 = np.ones(N)\n",
    "\n",
    "m2, cov2 = [6, 13], [[1, 0], [0, 1]] ## second gaussian\n",
    "data2 = np.random.multivariate_normal(m2, cov2, 2*N)\n",
    "label2 = np.ones(N) * 2    \n",
    "\n",
    "m3, cov3 = [0, 7], [[1.5, 0], [0, 1.5]] ## third gaussian\n",
    "data3 = np.random.multivariate_normal(m3, cov3, N)\n",
    "label3 = np.ones(N) * 3\n",
    "\n",
    "X = np.vstack((data1,np.vstack((data2,data3))))\n",
    "y = np.concatenate((label1,label2,label3))"
   ]
  },
  {
   "cell_type": "code",
   "execution_count": 466,
   "metadata": {},
   "outputs": [
    {
     "name": "stdout",
     "output_type": "stream",
     "text": [
      "-74101.37436129167\n",
      "[1.89188655e-04 9.98261724e-01 1.54908744e-03]\n",
      "0.8902947253895194\n",
      "-8129.311623319539\n",
      "[0.00402822 0.87211666 0.12385512]\n",
      "0.186750308300537\n",
      "-6611.160171393476\n",
      "[0.10444676 0.66211723 0.23343601]\n",
      "0.1956893694935989\n",
      "-5317.426405832293\n",
      "[0.23287705 0.51812065 0.2490023 ]\n",
      "0.11269347406877502\n",
      "-4718.187151054012\n",
      "[0.25001345 0.50003026 0.24995629]\n",
      "0.002731293920657956\n",
      "-4731.073906936213\n",
      "[0.25013753 0.49986871 0.24999376]\n",
      "1.941171936814891e-05\n"
     ]
    }
   ],
   "source": [
    "# spherical \n",
    "n = X.shape[0]\n",
    "d = 2\n",
    "mu = np.random.normal(size=(3,2))\n",
    "pj = 1/3*np.ones(3)\n",
    "sigma = np.ones(3)\n",
    "iterations = 0\n",
    "\n",
    "while 1>0:\n",
    "    pij = np.zeros((n,3))\n",
    "    for k in range(3):\n",
    "        pij[:,k] = np.log(pj[k]/((2*np.pi*sigma[k]**2)**(d/2)))-np.linalg.norm(X-mu[k,:],axis=1)**2/(2*(sigma[k]**2))\n",
    "        #pij[:,k] = np.log(pj[k]/((sigma[k]**2+0.05)**(d/2)))-np.linalg.norm(X_train_-mu[k,:],axis=1)**2/(2*(sigma[k]**2+0.05))\n",
    "    pij_c = np.exp(pij-(np.max(pij, axis=1).reshape(-1,1)))\n",
    "    pi = np.sum(pij_c, axis=1)\n",
    "    Fij = pij_c/pi.reshape(-1,1)\n",
    "    #print(Fij)\n",
    "\n",
    "    ll1 = log_likelihood(X, 3, pj, mu, sigma)\n",
    "    print(ll1)\n",
    "    Fij_s = np.sum(Fij, axis = 0)\n",
    "    # UPDATE\n",
    "    #pj = np.sum(Fij, axis=0)/n\n",
    "    #mu = Fij.T@X_train_/(np.sum(Fij, axis=0).reshape(-1,1))\n",
    "\n",
    "    for j in range(3):\n",
    "        pj[j] = Fij_s[j]/n\n",
    "        mu[j,:] = Fij[:,j].T@X/Fij_s[j]\n",
    "        sigma[j] = (Fij[:,j].T @ np.linalg.norm(X - mu[j,:],axis=1) / (d*Fij_s[j]))**0.5\n",
    "    print(pj)\n",
    "\n",
    "    ll2 = log_likelihood(X, 3, pj, mu, sigma)\n",
    "    iterations = iterations + 1\n",
    "    print(abs((ll1-ll2)/ll1))\n",
    "    if abs((ll1-ll2)/ll1) < 0.0001:\n",
    "        break\n",
    "        "
   ]
  },
  {
   "cell_type": "code",
   "execution_count": 540,
   "metadata": {},
   "outputs": [],
   "source": [
    "from sklearn.cluster import KMeans\n",
    "kmeans = KMeans(n_clusters=5, random_state=0).fit(X_train_)\n",
    "#kmeans.cluster_centers_"
   ]
  },
  {
   "cell_type": "code",
   "execution_count": null,
   "metadata": {},
   "outputs": [],
   "source": [
    "#from scipy.stats import multivariate_normal\n",
    "def log_likelihood(X, K, pj, mu, Sigma):\n",
    "    ll = 0\n",
    "    for i in range(n):\n",
    "        aj = np.zeros(K)\n",
    "        for j in range(K):\n",
    "            #aj[j] = np.log(pj[j]/(2*np.pi*(sigma[j]**2+0.05))**(d/2))-np.linalg.norm(X_train_[i,:]-mu[j,:])**2/(2*(sigma[j]**2+0.05))\n",
    "            aj[j] = np.log(pj[j]/((2*np.pi)**(d/2)*(np.prod(Sigma[j]))**0.5))-(X[i,:]-mu[j,:])@np.diagflat(1/Sigma[j])@(X[i,:]-mu[j,:]).T/2\n",
    "            #aj[j] = np.log(pj[j])+np.log(multivariate_normal.pdf(X[i,:], mean = mu[j,:], cov = Sigma[j]))\n",
    "        AA = max(aj)\n",
    "        ll = ll + AA + np.log(np.sum(np.exp(aj-AA)))\n",
    "        #print(AA + np.log(sum(np.exp(aj-AA))))\n",
    "    return ll"
   ]
  },
  {
   "cell_type": "code",
   "execution_count": 575,
   "metadata": {},
   "outputs": [
    {
     "name": "stdout",
     "output_type": "stream",
     "text": [
      "0.47330773936206566\n",
      "0.0036549746908081616\n",
      "0.003959104473520555\n",
      "0.003780148734020693\n",
      "0.0033699744710425183\n",
      "0.0026157534997024163\n",
      "0.001902183606262571\n",
      "0.0015210072881454658\n",
      "0.001217575286388987\n",
      "0.0011254419836944046\n",
      "0.001170453432593319\n",
      "0.0008734270634749751\n",
      "0.0007444438530151766\n",
      "0.00013074269962888316\n",
      "0.0015003316686165434\n",
      "0.0016332316461005205\n",
      "0.002683580547721038\n",
      "0.0017735852670595416\n",
      "0.0016392744899667389\n",
      "0.0015424099742866989\n",
      "0.0017689635788289554\n",
      "0.0015005482159575981\n",
      "0.0015623957330530755\n",
      "0.00157871644012596\n",
      "0.0017865895900111418\n",
      "0.001835073823896866\n",
      "0.002147065109174533\n",
      "0.002592368507221477\n",
      "0.0027449856536867737\n",
      "0.0029357404737814217\n",
      "0.0030170248451291013\n",
      "0.003230619208642583\n",
      "0.0038412400094926555\n",
      "0.004590146194407625\n",
      "0.005139332002888776\n",
      "0.004174886626982894\n",
      "0.0030943836717469025\n",
      "0.0023188158746562447\n",
      "0.0007508608754871422\n",
      "0.00014646603269345785\n",
      "1.830944838030836e-05\n"
     ]
    }
   ],
   "source": [
    "# spherical: training\n",
    "K = 5\n",
    "n = X_train_.shape[0]\n",
    "d = 14*14\n",
    "mu = np.copy(kmeans.cluster_centers_)\n",
    "pj = 1/K*np.ones(K)\n",
    "sigma0 = np.ones(d)\n",
    "Sigma = np.repeat(sigma0[None,...],K,axis=0)\n",
    "iterations = 0\n",
    "\n",
    "while 1>0:\n",
    "    pij = np.zeros((n,K))\n",
    "    for k in range(K):\n",
    "        pij[:,k] = d*np.log(pj[k]/((2*np.pi*Sigma[k][0]**2)))/2-np.linalg.norm(X_train_-mu[k,:],axis=1)**2/(2*(Sigma[k][0]**2))\n",
    "        #pij[:,k] = np.log(pj[k]/((sigma[k]**2+0.05)**(d/2)))-np.linalg.norm(X_train_-mu[k,:],axis=1)**2/(2*(sigma[k]**2+0.05))\n",
    "    pij_c = np.exp(pij-(np.max(pij, axis=1).reshape(-1,1)))\n",
    "    pi = np.sum(pij_c, axis=1)\n",
    "    Fij = pij_c/pi.reshape(-1,1)\n",
    "    #print(Fij)\n",
    "\n",
    "    ll1 = log_likelihood(X_train_, K, pj, mu, Sigma)\n",
    "    #print(ll1)\n",
    "    Fij_s = np.sum(Fij, axis = 0)\n",
    "    # UPDATE\n",
    "    #pj = np.sum(Fij, axis=0)/n\n",
    "    #mu = Fij.T@X_train_/(np.sum(Fij, axis=0).reshape(-1,1))\n",
    "\n",
    "    for j in range(K):\n",
    "        pj[j] = Fij_s[j]/n\n",
    "        mu[j,:] = Fij[:,j].T@X_train_/Fij_s[j]\n",
    "        Sigma[j] = ((Fij[:,j].T @ np.linalg.norm(X_train_ - mu[j,:],axis=1) / (d*Fij_s[j]))+0.05)**0.5*np.ones(d)\n",
    "    #print(pj)\n",
    "\n",
    "    ll2 = log_likelihood(X_train_, K, pj, mu, Sigma)\n",
    "    iterations = iterations + 1\n",
    "    print(abs((ll1-ll2)/ll1))\n",
    "    if abs((ll1-ll2)/ll1) < 0.0001:\n",
    "        break\n",
    "        "
   ]
  },
  {
   "cell_type": "code",
   "execution_count": 576,
   "metadata": {},
   "outputs": [
    {
     "name": "stdout",
     "output_type": "stream",
     "text": [
      "[0.07167604 0.06170741 0.06392993 0.16466077 0.63802585]\n",
      "[1.98472097 1.44690895 1.90601486 1.87734953 1.98503555]\n",
      "41\n"
     ]
    }
   ],
   "source": [
    "print(pj)\n",
    "print(sigma)\n",
    "print(iterations)"
   ]
  },
  {
   "cell_type": "code",
   "execution_count": 577,
   "metadata": {},
   "outputs": [],
   "source": [
    "for k in range(K):\n",
    "    pij[:,k] = d*np.log(pj[k]/((2*np.pi*Sigma[k][0]**2)))/2-np.linalg.norm(X_train_-mu[k,:],axis=1)**2/(2*(Sigma[k][0]**2))\n",
    "    #pij[:,k] = np.log(pj[k]/((sigma[k]**2+0.05)**(d/2)))-np.linalg.norm(X_train_-mu[k,:],axis=1)**2/(2*(sigma[k]**2+0.05))\n",
    "pij_c = np.exp(pij-(np.max(pij, axis=1).reshape(-1,1)))\n",
    "pi = np.sum(pij_c, axis=1)\n",
    "Fij = pij_c/pi.reshape(-1,1)"
   ]
  },
  {
   "cell_type": "code",
   "execution_count": 578,
   "metadata": {},
   "outputs": [
    {
     "data": {
      "text/html": [
       "<div>\n",
       "<style scoped>\n",
       "    .dataframe tbody tr th:only-of-type {\n",
       "        vertical-align: middle;\n",
       "    }\n",
       "\n",
       "    .dataframe tbody tr th {\n",
       "        vertical-align: top;\n",
       "    }\n",
       "\n",
       "    .dataframe thead th {\n",
       "        text-align: right;\n",
       "    }\n",
       "</style>\n",
       "<table border=\"1\" class=\"dataframe\">\n",
       "  <thead>\n",
       "    <tr style=\"text-align: right;\">\n",
       "      <th>col_0</th>\n",
       "      <th>0</th>\n",
       "      <th>1</th>\n",
       "      <th>2</th>\n",
       "      <th>3</th>\n",
       "      <th>4</th>\n",
       "    </tr>\n",
       "    <tr>\n",
       "      <th>row_0</th>\n",
       "      <th></th>\n",
       "      <th></th>\n",
       "      <th></th>\n",
       "      <th></th>\n",
       "      <th></th>\n",
       "    </tr>\n",
       "  </thead>\n",
       "  <tbody>\n",
       "    <tr>\n",
       "      <th>0</th>\n",
       "      <td>0</td>\n",
       "      <td>2154</td>\n",
       "      <td>1</td>\n",
       "      <td>0</td>\n",
       "      <td>4</td>\n",
       "    </tr>\n",
       "    <tr>\n",
       "      <th>1</th>\n",
       "      <td>0</td>\n",
       "      <td>1924</td>\n",
       "      <td>0</td>\n",
       "      <td>0</td>\n",
       "      <td>1</td>\n",
       "    </tr>\n",
       "    <tr>\n",
       "      <th>2</th>\n",
       "      <td>0</td>\n",
       "      <td>1941</td>\n",
       "      <td>2</td>\n",
       "      <td>7</td>\n",
       "      <td>6</td>\n",
       "    </tr>\n",
       "    <tr>\n",
       "      <th>3</th>\n",
       "      <td>4</td>\n",
       "      <td>4</td>\n",
       "      <td>70</td>\n",
       "      <td>12</td>\n",
       "      <td>4926</td>\n",
       "    </tr>\n",
       "    <tr>\n",
       "      <th>4</th>\n",
       "      <td>5919</td>\n",
       "      <td>719</td>\n",
       "      <td>5885</td>\n",
       "      <td>6112</td>\n",
       "      <td>905</td>\n",
       "    </tr>\n",
       "  </tbody>\n",
       "</table>\n",
       "</div>"
      ],
      "text/plain": [
       "col_0     0     1     2     3     4\n",
       "row_0                              \n",
       "0         0  2154     1     0     4\n",
       "1         0  1924     0     0     1\n",
       "2         0  1941     2     7     6\n",
       "3         4     4    70    12  4926\n",
       "4      5919   719  5885  6112   905"
      ]
     },
     "execution_count": 578,
     "metadata": {},
     "output_type": "execute_result"
    }
   ],
   "source": [
    "import pandas as pd\n",
    "pd.crosstab(np.argmax(Fij,axis=1), Y_train[Y_train<=4])\n",
    "#pd.crosstab(aa, Y_train[Y_train<=4])"
   ]
  },
  {
   "cell_type": "code",
   "execution_count": null,
   "metadata": {},
   "outputs": [],
   "source": [
    "aa = np.argmax(Fij,axis=1)\n",
    "print(aa)\n",
    "for i in range(len(aa)):\n",
    "    if aa[i]==4:\n",
    "        aa[i] = 3\n",
    "    elif aa[i]==3:\n",
    "        aa[i] = 4\n",
    "    elif aa[i]==0:\n",
    "        aa[i] = 1\n",
    "    elif aa[i]==1:\n",
    "        aa[i] = 0\n",
    "\n",
    "#np.argmax(Fij[:20,:],axis=1), Y_train[Y_train<=4][:20]"
   ]
  },
  {
   "cell_type": "code",
   "execution_count": 585,
   "metadata": {},
   "outputs": [
    {
     "data": {
      "text/plain": [
       "0.4312328408942345"
      ]
     },
     "execution_count": 585,
     "metadata": {},
     "output_type": "execute_result"
    }
   ],
   "source": [
    "sum(aa==Y_train[Y_train<=4])/n # 1-error"
   ]
  },
  {
   "cell_type": "code",
   "execution_count": 586,
   "metadata": {},
   "outputs": [
    {
     "data": {
      "text/html": [
       "<div>\n",
       "<style scoped>\n",
       "    .dataframe tbody tr th:only-of-type {\n",
       "        vertical-align: middle;\n",
       "    }\n",
       "\n",
       "    .dataframe tbody tr th {\n",
       "        vertical-align: top;\n",
       "    }\n",
       "\n",
       "    .dataframe thead th {\n",
       "        text-align: right;\n",
       "    }\n",
       "</style>\n",
       "<table border=\"1\" class=\"dataframe\">\n",
       "  <thead>\n",
       "    <tr style=\"text-align: right;\">\n",
       "      <th>col_0</th>\n",
       "      <th>0</th>\n",
       "      <th>1</th>\n",
       "      <th>2</th>\n",
       "      <th>3</th>\n",
       "      <th>4</th>\n",
       "    </tr>\n",
       "    <tr>\n",
       "      <th>row_0</th>\n",
       "      <th></th>\n",
       "      <th></th>\n",
       "      <th></th>\n",
       "      <th></th>\n",
       "      <th></th>\n",
       "    </tr>\n",
       "  </thead>\n",
       "  <tbody>\n",
       "    <tr>\n",
       "      <th>0</th>\n",
       "      <td>0</td>\n",
       "      <td>1924</td>\n",
       "      <td>0</td>\n",
       "      <td>0</td>\n",
       "      <td>1</td>\n",
       "    </tr>\n",
       "    <tr>\n",
       "      <th>1</th>\n",
       "      <td>0</td>\n",
       "      <td>2154</td>\n",
       "      <td>1</td>\n",
       "      <td>0</td>\n",
       "      <td>4</td>\n",
       "    </tr>\n",
       "    <tr>\n",
       "      <th>2</th>\n",
       "      <td>0</td>\n",
       "      <td>1941</td>\n",
       "      <td>2</td>\n",
       "      <td>7</td>\n",
       "      <td>6</td>\n",
       "    </tr>\n",
       "    <tr>\n",
       "      <th>3</th>\n",
       "      <td>5919</td>\n",
       "      <td>719</td>\n",
       "      <td>5885</td>\n",
       "      <td>6112</td>\n",
       "      <td>905</td>\n",
       "    </tr>\n",
       "    <tr>\n",
       "      <th>4</th>\n",
       "      <td>4</td>\n",
       "      <td>4</td>\n",
       "      <td>70</td>\n",
       "      <td>12</td>\n",
       "      <td>4926</td>\n",
       "    </tr>\n",
       "  </tbody>\n",
       "</table>\n",
       "</div>"
      ],
      "text/plain": [
       "col_0     0     1     2     3     4\n",
       "row_0                              \n",
       "0         0  1924     0     0     1\n",
       "1         0  2154     1     0     4\n",
       "2         0  1941     2     7     6\n",
       "3      5919   719  5885  6112   905\n",
       "4         4     4    70    12  4926"
      ]
     },
     "execution_count": 586,
     "metadata": {},
     "output_type": "execute_result"
    }
   ],
   "source": [
    "pd.crosstab(aa, Y_train[Y_train<=4])"
   ]
  },
  {
   "cell_type": "code",
   "execution_count": 563,
   "metadata": {},
   "outputs": [
    {
     "name": "stdout",
     "output_type": "stream",
     "text": [
      "0.8115279447051552\n",
      "0.0021994307780736993\n",
      "0.004501607143391075\n",
      "0.003526727003530064\n",
      "0.003359166725360494\n",
      "0.002727391375682484\n",
      "0.0022598938227245133\n",
      "0.0017257226895760283\n",
      "0.0014436300407130482\n",
      "0.0011461152051540874\n",
      "0.0009934596090988583\n",
      "0.0006666887939204043\n",
      "0.000629724926264301\n",
      "0.0006269383886448327\n",
      "0.0004796153208038943\n",
      "0.00028679425029680644\n",
      "0.00035101889439850744\n",
      "0.00023498560146788957\n",
      "0.00014185751377682909\n",
      "8.24660344070877e-05\n"
     ]
    }
   ],
   "source": [
    "# diagnoal \n",
    "K = 5\n",
    "n = X_train_.shape[0]\n",
    "d = 14*14\n",
    "mu = np.copy(kmeans.cluster_centers_)\n",
    "pj = 1/K*np.ones(K)\n",
    "sigma0 = np.ones(d)\n",
    "Sigma = np.repeat(sigma0[None,...],K,axis=0)\n",
    "iterations = 0\n",
    "\n",
    "while 1>0:\n",
    "    pij = np.zeros((n,K))\n",
    "    for l in range(n):\n",
    "        for k in range(K):\n",
    "            pij[l,k] = np.log(pj[k]/((2*np.pi)**(d/2)*(np.prod(Sigma[k]))**0.5))-(X_train_[l,:]-mu[k,:])@np.diagflat(1/Sigma[k])@(X_train_[l,:]-mu[k,:]).T/2\n",
    "        #pij[:,k] = np.log(pj[k]/((sigma[k]**2+0.05)**(d/2)))-np.linalg.norm(X_train_-mu[k,:],axis=1)**2/(2*(sigma[k]**2+0.05))\n",
    "    pij_c = np.exp(pij-(np.max(pij, axis=1).reshape(-1,1)))\n",
    "    pi = np.sum(pij_c, axis=1)\n",
    "    Fij = pij_c/pi.reshape(-1,1)\n",
    "    #print(Fij)\n",
    "\n",
    "    ll1 = log_likelihood(X_train_, K, pj, mu, Sigma)\n",
    "    #print(ll1)\n",
    "    Fij_s = np.sum(Fij, axis = 0)\n",
    "    # UPDATE\n",
    "\n",
    "    for j in range(K):\n",
    "        pj[j] = Fij_s[j]/n\n",
    "        mu[j,:] = Fij[:,j].T@X_train_/Fij_s[j]\n",
    "        for p in range(d):\n",
    "            Sigma[j][p] = ((Fij[:,j].T @ (X_train_[:,p] - mu[j,p])**2 / (d*Fij_s[j]))+0.05)**0.5\n",
    "    #print(pj)\n",
    "\n",
    "    ll2 = log_likelihood(X_train_, K, pj, mu, Sigma)\n",
    "    iterations = iterations + 1\n",
    "    print(abs((ll1-ll2)/ll1))\n",
    "    if abs((ll1-ll2)/ll1) < 0.0001:\n",
    "        break\n",
    "        "
   ]
  },
  {
   "cell_type": "code",
   "execution_count": 567,
   "metadata": {},
   "outputs": [],
   "source": [
    "for l in range(n):\n",
    "    for k in range(K):\n",
    "        pij[l,k] = np.log(pj[k])-(d/2)*np.log(2*np.pi)-np.log(np.prod(Sigma[k])**0.5)-(X_train_[l,:]-mu[k,:])@np.diagflat(1/Sigma[k])@(X_train_[l,:]-mu[k,:]).T/2\n",
    "pij_c = np.exp(pij-(np.max(pij, axis=1).reshape(-1,1)))\n",
    "pi = np.sum(pij_c, axis=1)\n",
    "Fij = pij_c/pi.reshape(-1,1)"
   ]
  },
  {
   "cell_type": "code",
   "execution_count": 569,
   "metadata": {},
   "outputs": [
    {
     "data": {
      "text/html": [
       "<div>\n",
       "<style scoped>\n",
       "    .dataframe tbody tr th:only-of-type {\n",
       "        vertical-align: middle;\n",
       "    }\n",
       "\n",
       "    .dataframe tbody tr th {\n",
       "        vertical-align: top;\n",
       "    }\n",
       "\n",
       "    .dataframe thead th {\n",
       "        text-align: right;\n",
       "    }\n",
       "</style>\n",
       "<table border=\"1\" class=\"dataframe\">\n",
       "  <thead>\n",
       "    <tr style=\"text-align: right;\">\n",
       "      <th>col_0</th>\n",
       "      <th>0</th>\n",
       "      <th>1</th>\n",
       "      <th>2</th>\n",
       "      <th>3</th>\n",
       "      <th>4</th>\n",
       "    </tr>\n",
       "    <tr>\n",
       "      <th>row_0</th>\n",
       "      <th></th>\n",
       "      <th></th>\n",
       "      <th></th>\n",
       "      <th></th>\n",
       "      <th></th>\n",
       "    </tr>\n",
       "  </thead>\n",
       "  <tbody>\n",
       "    <tr>\n",
       "      <th>0</th>\n",
       "      <td>310</td>\n",
       "      <td>2446</td>\n",
       "      <td>5302</td>\n",
       "      <td>1526</td>\n",
       "      <td>273</td>\n",
       "    </tr>\n",
       "    <tr>\n",
       "      <th>1</th>\n",
       "      <td>0</td>\n",
       "      <td>3998</td>\n",
       "      <td>2</td>\n",
       "      <td>12</td>\n",
       "      <td>2</td>\n",
       "    </tr>\n",
       "    <tr>\n",
       "      <th>2</th>\n",
       "      <td>139</td>\n",
       "      <td>287</td>\n",
       "      <td>315</td>\n",
       "      <td>4364</td>\n",
       "      <td>46</td>\n",
       "    </tr>\n",
       "    <tr>\n",
       "      <th>3</th>\n",
       "      <td>14</td>\n",
       "      <td>11</td>\n",
       "      <td>187</td>\n",
       "      <td>104</td>\n",
       "      <td>5483</td>\n",
       "    </tr>\n",
       "    <tr>\n",
       "      <th>4</th>\n",
       "      <td>5460</td>\n",
       "      <td>0</td>\n",
       "      <td>152</td>\n",
       "      <td>125</td>\n",
       "      <td>38</td>\n",
       "    </tr>\n",
       "  </tbody>\n",
       "</table>\n",
       "</div>"
      ],
      "text/plain": [
       "col_0     0     1     2     3     4\n",
       "row_0                              \n",
       "0       310  2446  5302  1526   273\n",
       "1         0  3998     2    12     2\n",
       "2       139   287   315  4364    46\n",
       "3        14    11   187   104  5483\n",
       "4      5460     0   152   125    38"
      ]
     },
     "execution_count": 569,
     "metadata": {},
     "output_type": "execute_result"
    }
   ],
   "source": [
    "pd.crosstab(np.argmax(Fij,axis=1), Y_train[Y_train<=4])"
   ]
  },
  {
   "cell_type": "code",
   "execution_count": null,
   "metadata": {},
   "outputs": [],
   "source": [
    "aa = np.argmax(Fij,axis=1)\n",
    "for i in range(len(aa)):\n",
    "    if aa[i]==4:\n",
    "        aa[i] = 0\n",
    "    elif aa[i]==3:\n",
    "        aa[i] = 4\n",
    "    elif aa[i]==2:\n",
    "        aa[i] = 3\n",
    "    elif aa[i]==0:\n",
    "        aa[i] = 2"
   ]
  },
  {
   "cell_type": "code",
   "execution_count": 572,
   "metadata": {},
   "outputs": [
    {
     "data": {
      "text/html": [
       "<div>\n",
       "<style scoped>\n",
       "    .dataframe tbody tr th:only-of-type {\n",
       "        vertical-align: middle;\n",
       "    }\n",
       "\n",
       "    .dataframe tbody tr th {\n",
       "        vertical-align: top;\n",
       "    }\n",
       "\n",
       "    .dataframe thead th {\n",
       "        text-align: right;\n",
       "    }\n",
       "</style>\n",
       "<table border=\"1\" class=\"dataframe\">\n",
       "  <thead>\n",
       "    <tr style=\"text-align: right;\">\n",
       "      <th>col_0</th>\n",
       "      <th>0</th>\n",
       "      <th>1</th>\n",
       "      <th>2</th>\n",
       "      <th>3</th>\n",
       "      <th>4</th>\n",
       "    </tr>\n",
       "    <tr>\n",
       "      <th>row_0</th>\n",
       "      <th></th>\n",
       "      <th></th>\n",
       "      <th></th>\n",
       "      <th></th>\n",
       "      <th></th>\n",
       "    </tr>\n",
       "  </thead>\n",
       "  <tbody>\n",
       "    <tr>\n",
       "      <th>0</th>\n",
       "      <td>5460</td>\n",
       "      <td>0</td>\n",
       "      <td>152</td>\n",
       "      <td>125</td>\n",
       "      <td>38</td>\n",
       "    </tr>\n",
       "    <tr>\n",
       "      <th>1</th>\n",
       "      <td>0</td>\n",
       "      <td>3998</td>\n",
       "      <td>2</td>\n",
       "      <td>12</td>\n",
       "      <td>2</td>\n",
       "    </tr>\n",
       "    <tr>\n",
       "      <th>2</th>\n",
       "      <td>310</td>\n",
       "      <td>2446</td>\n",
       "      <td>5302</td>\n",
       "      <td>1526</td>\n",
       "      <td>273</td>\n",
       "    </tr>\n",
       "    <tr>\n",
       "      <th>3</th>\n",
       "      <td>139</td>\n",
       "      <td>287</td>\n",
       "      <td>315</td>\n",
       "      <td>4364</td>\n",
       "      <td>46</td>\n",
       "    </tr>\n",
       "    <tr>\n",
       "      <th>4</th>\n",
       "      <td>14</td>\n",
       "      <td>11</td>\n",
       "      <td>187</td>\n",
       "      <td>104</td>\n",
       "      <td>5483</td>\n",
       "    </tr>\n",
       "  </tbody>\n",
       "</table>\n",
       "</div>"
      ],
      "text/plain": [
       "col_0     0     1     2     3     4\n",
       "row_0                              \n",
       "0      5460     0   152   125    38\n",
       "1         0  3998     2    12     2\n",
       "2       310  2446  5302  1526   273\n",
       "3       139   287   315  4364    46\n",
       "4        14    11   187   104  5483"
      ]
     },
     "execution_count": 572,
     "metadata": {},
     "output_type": "execute_result"
    }
   ],
   "source": [
    "pd.crosstab(aa, Y_train[Y_train<=4])"
   ]
  },
  {
   "cell_type": "code",
   "execution_count": 573,
   "metadata": {},
   "outputs": [
    {
     "data": {
      "text/plain": [
       "0.804255458229834"
      ]
     },
     "execution_count": 573,
     "metadata": {},
     "output_type": "execute_result"
    }
   ],
   "source": [
    "sum(aa==Y_train[Y_train<=4])/n # 1-error"
   ]
  },
  {
   "cell_type": "markdown",
   "metadata": {},
   "source": [
    "### Test set"
   ]
  },
  {
   "cell_type": "code",
   "execution_count": 596,
   "metadata": {},
   "outputs": [
    {
     "name": "stdout",
     "output_type": "stream",
     "text": [
      "0.4717268200327462\n",
      "0.0029803779481212475\n",
      "0.0033095060746307727\n",
      "0.0032022513499373874\n",
      "0.002835271894490343\n",
      "0.0025024795787190854\n",
      "0.0020365517743016555\n",
      "0.001859820530752659\n",
      "0.0014196780943755373\n",
      "0.0013167686145707884\n",
      "0.0012104571937146488\n",
      "0.0011239012884632538\n",
      "0.001248874867347354\n",
      "0.0017868195233541357\n",
      "0.0005929130017768189\n",
      "0.0005031849341304074\n",
      "0.0034662059318158875\n",
      "0.003317692264078166\n",
      "0.002730126906462201\n",
      "0.0028816855740546542\n",
      "0.0027394480926919477\n",
      "0.0027933352334292647\n",
      "0.0018973951661742535\n",
      "0.0020046827159751197\n",
      "0.0018142578694813386\n",
      "0.0021519247090164067\n",
      "0.0017105027995647818\n",
      "0.0016681897323253458\n",
      "0.0015633489664225668\n",
      "0.0015502952355554407\n",
      "0.0014030203315985727\n",
      "0.0015486016558154507\n",
      "0.0014382213197689658\n",
      "0.0014741190523840588\n",
      "0.001023834070362003\n",
      "0.0007295687069348197\n",
      "0.0005454642744043704\n",
      "0.0006609056292932071\n",
      "0.0011059806653296496\n",
      "0.0015652960080795896\n",
      "0.001967632910491844\n",
      "0.002565060141360527\n",
      "0.003598301224555075\n",
      "0.004389073254202822\n",
      "0.003597526859074942\n",
      "0.002324301446218112\n",
      "0.0009258182169030426\n",
      "0.0003109582383007541\n",
      "0.0006698120166363779\n",
      "0.0007465128124226878\n",
      "0.0004988950145843734\n",
      "0.0002472500502145431\n",
      "0.00029184183806155953\n",
      "0.00032355993289624746\n",
      "0.0001048288788802568\n",
      "5.299360658821683e-05\n"
     ]
    }
   ],
   "source": [
    "# spherical: test\n",
    "kmeans = KMeans(n_clusters=5, random_state=0).fit(X_test_)\n",
    "K = 5\n",
    "n = X_test_.shape[0]\n",
    "d = 14*14\n",
    "mu = np.copy(kmeans.cluster_centers_)\n",
    "pj = 1/K*np.ones(K)\n",
    "sigma0 = np.ones(d)\n",
    "Sigma = np.repeat(sigma0[None,...],K,axis=0)\n",
    "iterations = 0\n",
    "\n",
    "while 1>0:\n",
    "    pij = np.zeros((n,K))\n",
    "    for k in range(K):\n",
    "        pij[:,k] = d*np.log(pj[k]/((2*np.pi*Sigma[k][0]**2)))/2-np.linalg.norm(X_test_-mu[k,:],axis=1)**2/(2*(Sigma[k][0]**2))\n",
    "        #pij[:,k] = np.log(pj[k]/((sigma[k]**2+0.05)**(d/2)))-np.linalg.norm(X_train_-mu[k,:],axis=1)**2/(2*(sigma[k]**2+0.05))\n",
    "    pij_c = np.exp(pij-(np.max(pij, axis=1).reshape(-1,1)))\n",
    "    pi = np.sum(pij_c, axis=1)\n",
    "    Fij = pij_c/pi.reshape(-1,1)\n",
    "    #print(Fij)\n",
    "\n",
    "    ll1 = log_likelihood(X_test_, K, pj, mu, Sigma)\n",
    "    #print(ll1)\n",
    "    Fij_s = np.sum(Fij, axis = 0)\n",
    "    # UPDATE\n",
    "    #pj = np.sum(Fij, axis=0)/n\n",
    "    #mu = Fij.T@X_train_/(np.sum(Fij, axis=0).reshape(-1,1))\n",
    "\n",
    "    for j in range(K):\n",
    "        pj[j] = Fij_s[j]/n\n",
    "        mu[j,:] = Fij[:,j].T@X_test_/Fij_s[j]\n",
    "        Sigma[j] = ((Fij[:,j].T @ np.linalg.norm(X_test_ - mu[j,:],axis=1) / (d*Fij_s[j]))+0.05)**0.5*np.ones(d)\n",
    "    #print(pj)\n",
    "\n",
    "    ll2 = log_likelihood(X_test_, K, pj, mu, Sigma)\n",
    "    iterations = iterations + 1\n",
    "    print(abs((ll1-ll2)/ll1))\n",
    "    if abs((ll1-ll2)/ll1) < 0.0001:\n",
    "        break\n",
    "        "
   ]
  },
  {
   "cell_type": "code",
   "execution_count": 599,
   "metadata": {},
   "outputs": [
    {
     "name": "stdout",
     "output_type": "stream",
     "text": [
      "[0.06518778 0.06363106 0.6417591  0.16462347 0.0647986 ]\n",
      "56\n"
     ]
    }
   ],
   "source": [
    "print(pj)\n",
    "print(iterations)"
   ]
  },
  {
   "cell_type": "code",
   "execution_count": 601,
   "metadata": {},
   "outputs": [
    {
     "name": "stdout",
     "output_type": "stream",
     "text": [
      "[0.06518778 0.06363106 0.6417591  0.16462347 0.0647986 ]\n",
      "56\n"
     ]
    },
    {
     "data": {
      "text/html": [
       "<div>\n",
       "<style scoped>\n",
       "    .dataframe tbody tr th:only-of-type {\n",
       "        vertical-align: middle;\n",
       "    }\n",
       "\n",
       "    .dataframe tbody tr th {\n",
       "        vertical-align: top;\n",
       "    }\n",
       "\n",
       "    .dataframe thead th {\n",
       "        text-align: right;\n",
       "    }\n",
       "</style>\n",
       "<table border=\"1\" class=\"dataframe\">\n",
       "  <thead>\n",
       "    <tr style=\"text-align: right;\">\n",
       "      <th>col_0</th>\n",
       "      <th>0</th>\n",
       "      <th>1</th>\n",
       "      <th>2</th>\n",
       "      <th>3</th>\n",
       "      <th>4</th>\n",
       "    </tr>\n",
       "    <tr>\n",
       "      <th>row_0</th>\n",
       "      <th></th>\n",
       "      <th></th>\n",
       "      <th></th>\n",
       "      <th></th>\n",
       "      <th></th>\n",
       "    </tr>\n",
       "  </thead>\n",
       "  <tbody>\n",
       "    <tr>\n",
       "      <th>0</th>\n",
       "      <td>0</td>\n",
       "      <td>334</td>\n",
       "      <td>0</td>\n",
       "      <td>0</td>\n",
       "      <td>0</td>\n",
       "    </tr>\n",
       "    <tr>\n",
       "      <th>1</th>\n",
       "      <td>0</td>\n",
       "      <td>327</td>\n",
       "      <td>0</td>\n",
       "      <td>0</td>\n",
       "      <td>0</td>\n",
       "    </tr>\n",
       "    <tr>\n",
       "      <th>2</th>\n",
       "      <td>980</td>\n",
       "      <td>140</td>\n",
       "      <td>1022</td>\n",
       "      <td>1006</td>\n",
       "      <td>151</td>\n",
       "    </tr>\n",
       "    <tr>\n",
       "      <th>3</th>\n",
       "      <td>0</td>\n",
       "      <td>1</td>\n",
       "      <td>10</td>\n",
       "      <td>4</td>\n",
       "      <td>831</td>\n",
       "    </tr>\n",
       "    <tr>\n",
       "      <th>4</th>\n",
       "      <td>0</td>\n",
       "      <td>333</td>\n",
       "      <td>0</td>\n",
       "      <td>0</td>\n",
       "      <td>0</td>\n",
       "    </tr>\n",
       "  </tbody>\n",
       "</table>\n",
       "</div>"
      ],
      "text/plain": [
       "col_0    0    1     2     3    4\n",
       "row_0                           \n",
       "0        0  334     0     0    0\n",
       "1        0  327     0     0    0\n",
       "2      980  140  1022  1006  151\n",
       "3        0    1    10     4  831\n",
       "4        0  333     0     0    0"
      ]
     },
     "execution_count": 601,
     "metadata": {},
     "output_type": "execute_result"
    }
   ],
   "source": [
    "for k in range(K):\n",
    "    pij[:,k] = d*np.log(pj[k]/((2*np.pi*Sigma[k][0]**2)))/2-np.linalg.norm(X_test_-mu[k,:],axis=1)**2/(2*(Sigma[k][0]**2))\n",
    "    #pij[:,k] = np.log(pj[k]/((sigma[k]**2+0.05)**(d/2)))-np.linalg.norm(X_train_-mu[k,:],axis=1)**2/(2*(sigma[k]**2+0.05))\n",
    "pij_c = np.exp(pij-(np.max(pij, axis=1).reshape(-1,1)))\n",
    "pi = np.sum(pij_c, axis=1)\n",
    "Fij = pij_c/pi.reshape(-1,1)\n",
    "\n",
    "pd.crosstab(np.argmax(Fij,axis=1), Y_test[Y_test<=4])"
   ]
  },
  {
   "cell_type": "code",
   "execution_count": 608,
   "metadata": {},
   "outputs": [
    {
     "data": {
      "text/html": [
       "<div>\n",
       "<style scoped>\n",
       "    .dataframe tbody tr th:only-of-type {\n",
       "        vertical-align: middle;\n",
       "    }\n",
       "\n",
       "    .dataframe tbody tr th {\n",
       "        vertical-align: top;\n",
       "    }\n",
       "\n",
       "    .dataframe thead th {\n",
       "        text-align: right;\n",
       "    }\n",
       "</style>\n",
       "<table border=\"1\" class=\"dataframe\">\n",
       "  <thead>\n",
       "    <tr style=\"text-align: right;\">\n",
       "      <th>col_0</th>\n",
       "      <th>0</th>\n",
       "      <th>1</th>\n",
       "      <th>2</th>\n",
       "      <th>3</th>\n",
       "      <th>4</th>\n",
       "    </tr>\n",
       "    <tr>\n",
       "      <th>row_0</th>\n",
       "      <th></th>\n",
       "      <th></th>\n",
       "      <th></th>\n",
       "      <th></th>\n",
       "      <th></th>\n",
       "    </tr>\n",
       "  </thead>\n",
       "  <tbody>\n",
       "    <tr>\n",
       "      <th>0</th>\n",
       "      <td>0</td>\n",
       "      <td>333</td>\n",
       "      <td>0</td>\n",
       "      <td>0</td>\n",
       "      <td>0</td>\n",
       "    </tr>\n",
       "    <tr>\n",
       "      <th>1</th>\n",
       "      <td>0</td>\n",
       "      <td>334</td>\n",
       "      <td>0</td>\n",
       "      <td>0</td>\n",
       "      <td>0</td>\n",
       "    </tr>\n",
       "    <tr>\n",
       "      <th>2</th>\n",
       "      <td>980</td>\n",
       "      <td>140</td>\n",
       "      <td>1022</td>\n",
       "      <td>1006</td>\n",
       "      <td>151</td>\n",
       "    </tr>\n",
       "    <tr>\n",
       "      <th>3</th>\n",
       "      <td>0</td>\n",
       "      <td>327</td>\n",
       "      <td>0</td>\n",
       "      <td>0</td>\n",
       "      <td>0</td>\n",
       "    </tr>\n",
       "    <tr>\n",
       "      <th>4</th>\n",
       "      <td>0</td>\n",
       "      <td>1</td>\n",
       "      <td>10</td>\n",
       "      <td>4</td>\n",
       "      <td>831</td>\n",
       "    </tr>\n",
       "  </tbody>\n",
       "</table>\n",
       "</div>"
      ],
      "text/plain": [
       "col_0    0    1     2     3    4\n",
       "row_0                           \n",
       "0        0  333     0     0    0\n",
       "1        0  334     0     0    0\n",
       "2      980  140  1022  1006  151\n",
       "3        0  327     0     0    0\n",
       "4        0    1    10     4  831"
      ]
     },
     "execution_count": 608,
     "metadata": {},
     "output_type": "execute_result"
    }
   ],
   "source": [
    "aa = np.argmax(Fij,axis=1)\n",
    "for i in range(len(aa)):\n",
    "    if aa[i]==3:\n",
    "        aa[i] = 4\n",
    "    elif aa[i]==0:\n",
    "        aa[i] = 1\n",
    "    elif aa[i]==1:\n",
    "        aa[i] = 3\n",
    "    elif aa[i]==4:\n",
    "        aa[i] = 0\n",
    "pd.crosstab(aa, Y_test[Y_test<=4])"
   ]
  },
  {
   "cell_type": "code",
   "execution_count": 609,
   "metadata": {},
   "outputs": [
    {
     "data": {
      "text/plain": [
       "0.425569176882662"
      ]
     },
     "execution_count": 609,
     "metadata": {},
     "output_type": "execute_result"
    }
   ],
   "source": [
    "sum(aa==Y_test[Y_test<=4])/n # 1-error"
   ]
  },
  {
   "cell_type": "code",
   "execution_count": 611,
   "metadata": {},
   "outputs": [
    {
     "name": "stdout",
     "output_type": "stream",
     "text": [
      "0.8112495308020625\n",
      "0.001569064137263364\n",
      "0.003844623503468938\n",
      "0.0036616734964009076\n",
      "0.0032292947615370844\n",
      "0.00228935777311846\n",
      "0.0023512933654438457\n",
      "0.0016565227048603375\n",
      "0.0012724820276460702\n",
      "0.0012732175349169366\n",
      "0.0007798850906193649\n",
      "0.000617219073041232\n",
      "0.00029534177022255665\n",
      "0.00019050795973883736\n",
      "7.591957126819628e-05\n"
     ]
    }
   ],
   "source": [
    "# diagnoal: test\n",
    "K = 5\n",
    "n = X_test_.shape[0]\n",
    "d = 14*14\n",
    "mu = np.copy(kmeans.cluster_centers_)\n",
    "pj = 1/K*np.ones(K)\n",
    "sigma0 = np.ones(d)\n",
    "Sigma = np.repeat(sigma0[None,...],K,axis=0)\n",
    "iterations = 0\n",
    "\n",
    "while 1>0:\n",
    "    pij = np.zeros((n,K))\n",
    "    for l in range(n):\n",
    "        for k in range(K):\n",
    "            pij[l,k] = np.log(pj[k]/((2*np.pi)**(d/2)*(np.prod(Sigma[k]))**0.5))-(X_test_[l,:]-mu[k,:])@np.diagflat(1/Sigma[k])@(X_test_[l,:]-mu[k,:]).T/2\n",
    "        #pij[:,k] = np.log(pj[k]/((sigma[k]**2+0.05)**(d/2)))-np.linalg.norm(X_train_-mu[k,:],axis=1)**2/(2*(sigma[k]**2+0.05))\n",
    "    pij_c = np.exp(pij-(np.max(pij, axis=1).reshape(-1,1)))\n",
    "    pi = np.sum(pij_c, axis=1)\n",
    "    Fij = pij_c/pi.reshape(-1,1)\n",
    "    #print(Fij)\n",
    "\n",
    "    ll1 = log_likelihood(X_test_, K, pj, mu, Sigma)\n",
    "    #print(ll1)\n",
    "    Fij_s = np.sum(Fij, axis = 0)\n",
    "    # UPDATE\n",
    "\n",
    "    for j in range(K):\n",
    "        pj[j] = Fij_s[j]/n\n",
    "        mu[j,:] = Fij[:,j].T@X_test_/Fij_s[j]\n",
    "        for p in range(d):\n",
    "            Sigma[j][p] = ((Fij[:,j].T @ (X_test_[:,p] - mu[j,p])**2 / (d*Fij_s[j]))+0.05)**0.5\n",
    "    #print(pj)\n",
    "\n",
    "    ll2 = log_likelihood(X_test_, K, pj, mu, Sigma)\n",
    "    iterations = iterations + 1\n",
    "    print(abs((ll1-ll2)/ll1))\n",
    "    if abs((ll1-ll2)/ll1) < 0.0001:\n",
    "        break\n",
    "        "
   ]
  },
  {
   "cell_type": "code",
   "execution_count": 612,
   "metadata": {},
   "outputs": [
    {
     "data": {
      "text/html": [
       "<div>\n",
       "<style scoped>\n",
       "    .dataframe tbody tr th:only-of-type {\n",
       "        vertical-align: middle;\n",
       "    }\n",
       "\n",
       "    .dataframe tbody tr th {\n",
       "        vertical-align: top;\n",
       "    }\n",
       "\n",
       "    .dataframe thead th {\n",
       "        text-align: right;\n",
       "    }\n",
       "</style>\n",
       "<table border=\"1\" class=\"dataframe\">\n",
       "  <thead>\n",
       "    <tr style=\"text-align: right;\">\n",
       "      <th>col_0</th>\n",
       "      <th>0</th>\n",
       "      <th>1</th>\n",
       "      <th>2</th>\n",
       "      <th>3</th>\n",
       "      <th>4</th>\n",
       "    </tr>\n",
       "    <tr>\n",
       "      <th>row_0</th>\n",
       "      <th></th>\n",
       "      <th></th>\n",
       "      <th></th>\n",
       "      <th></th>\n",
       "      <th></th>\n",
       "    </tr>\n",
       "  </thead>\n",
       "  <tbody>\n",
       "    <tr>\n",
       "      <th>0</th>\n",
       "      <td>0</td>\n",
       "      <td>695</td>\n",
       "      <td>0</td>\n",
       "      <td>1</td>\n",
       "      <td>0</td>\n",
       "    </tr>\n",
       "    <tr>\n",
       "      <th>1</th>\n",
       "      <td>12</td>\n",
       "      <td>54</td>\n",
       "      <td>35</td>\n",
       "      <td>801</td>\n",
       "      <td>2</td>\n",
       "    </tr>\n",
       "    <tr>\n",
       "      <th>2</th>\n",
       "      <td>942</td>\n",
       "      <td>0</td>\n",
       "      <td>26</td>\n",
       "      <td>9</td>\n",
       "      <td>8</td>\n",
       "    </tr>\n",
       "    <tr>\n",
       "      <th>3</th>\n",
       "      <td>3</td>\n",
       "      <td>1</td>\n",
       "      <td>32</td>\n",
       "      <td>16</td>\n",
       "      <td>936</td>\n",
       "    </tr>\n",
       "    <tr>\n",
       "      <th>4</th>\n",
       "      <td>23</td>\n",
       "      <td>385</td>\n",
       "      <td>939</td>\n",
       "      <td>183</td>\n",
       "      <td>36</td>\n",
       "    </tr>\n",
       "  </tbody>\n",
       "</table>\n",
       "</div>"
      ],
      "text/plain": [
       "col_0    0    1    2    3    4\n",
       "row_0                         \n",
       "0        0  695    0    1    0\n",
       "1       12   54   35  801    2\n",
       "2      942    0   26    9    8\n",
       "3        3    1   32   16  936\n",
       "4       23  385  939  183   36"
      ]
     },
     "execution_count": 612,
     "metadata": {},
     "output_type": "execute_result"
    }
   ],
   "source": [
    "for l in range(n):\n",
    "    for k in range(K):\n",
    "        pij[l,k] = np.log(pj[k])-(d/2)*np.log(2*np.pi)-np.log(np.prod(Sigma[k])**0.5)-(X_test_[l,:]-mu[k,:])@np.diagflat(1/Sigma[k])@(X_test_[l,:]-mu[k,:]).T/2\n",
    "pij_c = np.exp(pij-(np.max(pij, axis=1).reshape(-1,1)))\n",
    "pi = np.sum(pij_c, axis=1)\n",
    "Fij = pij_c/pi.reshape(-1,1)\n",
    "\n",
    "pd.crosstab(np.argmax(Fij,axis=1), Y_test[Y_test<=4])"
   ]
  },
  {
   "cell_type": "code",
   "execution_count": 615,
   "metadata": {},
   "outputs": [
    {
     "data": {
      "text/html": [
       "<div>\n",
       "<style scoped>\n",
       "    .dataframe tbody tr th:only-of-type {\n",
       "        vertical-align: middle;\n",
       "    }\n",
       "\n",
       "    .dataframe tbody tr th {\n",
       "        vertical-align: top;\n",
       "    }\n",
       "\n",
       "    .dataframe thead th {\n",
       "        text-align: right;\n",
       "    }\n",
       "</style>\n",
       "<table border=\"1\" class=\"dataframe\">\n",
       "  <thead>\n",
       "    <tr style=\"text-align: right;\">\n",
       "      <th>col_0</th>\n",
       "      <th>0</th>\n",
       "      <th>1</th>\n",
       "      <th>2</th>\n",
       "      <th>3</th>\n",
       "      <th>4</th>\n",
       "    </tr>\n",
       "    <tr>\n",
       "      <th>row_0</th>\n",
       "      <th></th>\n",
       "      <th></th>\n",
       "      <th></th>\n",
       "      <th></th>\n",
       "      <th></th>\n",
       "    </tr>\n",
       "  </thead>\n",
       "  <tbody>\n",
       "    <tr>\n",
       "      <th>0</th>\n",
       "      <td>942</td>\n",
       "      <td>0</td>\n",
       "      <td>26</td>\n",
       "      <td>9</td>\n",
       "      <td>8</td>\n",
       "    </tr>\n",
       "    <tr>\n",
       "      <th>1</th>\n",
       "      <td>0</td>\n",
       "      <td>695</td>\n",
       "      <td>0</td>\n",
       "      <td>1</td>\n",
       "      <td>0</td>\n",
       "    </tr>\n",
       "    <tr>\n",
       "      <th>2</th>\n",
       "      <td>23</td>\n",
       "      <td>385</td>\n",
       "      <td>939</td>\n",
       "      <td>183</td>\n",
       "      <td>36</td>\n",
       "    </tr>\n",
       "    <tr>\n",
       "      <th>3</th>\n",
       "      <td>12</td>\n",
       "      <td>54</td>\n",
       "      <td>35</td>\n",
       "      <td>801</td>\n",
       "      <td>2</td>\n",
       "    </tr>\n",
       "    <tr>\n",
       "      <th>4</th>\n",
       "      <td>3</td>\n",
       "      <td>1</td>\n",
       "      <td>32</td>\n",
       "      <td>16</td>\n",
       "      <td>936</td>\n",
       "    </tr>\n",
       "  </tbody>\n",
       "</table>\n",
       "</div>"
      ],
      "text/plain": [
       "col_0    0    1    2    3    4\n",
       "row_0                         \n",
       "0      942    0   26    9    8\n",
       "1        0  695    0    1    0\n",
       "2       23  385  939  183   36\n",
       "3       12   54   35  801    2\n",
       "4        3    1   32   16  936"
      ]
     },
     "execution_count": 615,
     "metadata": {},
     "output_type": "execute_result"
    }
   ],
   "source": [
    "aa = np.argmax(Fij,axis=1)\n",
    "for i in range(len(aa)):\n",
    "    if aa[i]==0:\n",
    "        aa[i] = 1\n",
    "    elif aa[i]==1:\n",
    "        aa[i] = 3\n",
    "    elif aa[i]==2:\n",
    "        aa[i] = 0\n",
    "    elif aa[i]==3:\n",
    "        aa[i] = 4\n",
    "    else:\n",
    "        aa[i] = 2\n",
    "pd.crosstab(aa, Y_test[Y_test<=4])"
   ]
  },
  {
   "cell_type": "code",
   "execution_count": 616,
   "metadata": {},
   "outputs": [
    {
     "data": {
      "text/plain": [
       "0.8392683401439969"
      ]
     },
     "execution_count": 616,
     "metadata": {},
     "output_type": "execute_result"
    }
   ],
   "source": [
    "sum(aa==Y_test[Y_test<=4])/n # 1-error"
   ]
  }
 ],
 "metadata": {
  "kernelspec": {
   "display_name": "Python 3",
   "language": "python",
   "name": "python3"
  },
  "language_info": {
   "codemirror_mode": {
    "name": "ipython",
    "version": 3
   },
   "file_extension": ".py",
   "mimetype": "text/x-python",
   "name": "python",
   "nbconvert_exporter": "python",
   "pygments_lexer": "ipython3",
   "version": "3.7.4"
  }
 },
 "nbformat": 4,
 "nbformat_minor": 5
}
