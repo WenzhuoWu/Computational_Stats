{
 "cells": [
  {
   "cell_type": "markdown",
   "id": "b52af60d",
   "metadata": {},
   "source": [
    "### 2."
   ]
  },
  {
   "cell_type": "code",
   "execution_count": 55,
   "id": "66a6f0c1",
   "metadata": {},
   "outputs": [],
   "source": [
    "import numpy as np\n",
    "import pandas as pd\n",
    "import matplotlib.pyplot as plt\n",
    "import math\n",
    "import random\n",
    "import statsmodels.formula.api as sm\n",
    "from numpy import linalg as la\n",
    "from statistics import mean\n",
    "from sklearn.linear_model import LinearRegression\n",
    "from sklearn import preprocessing, linear_model\n",
    "from sklearn.metrics import r2_score"
   ]
  },
  {
   "cell_type": "code",
   "execution_count": 56,
   "id": "fcfd6d42",
   "metadata": {},
   "outputs": [
    {
     "name": "stdout",
     "output_type": "stream",
     "text": [
      "       Unnamed: 0          id             date    price  bedrooms  bathrooms  \\\n",
      "0               2  6414100192  20141209T000000   538000         3       2.25   \n",
      "1               4  2487200875  20141209T000000   604000         4       3.00   \n",
      "2               5  1954400510  20150218T000000   510000         3       2.00   \n",
      "3               6  7237550310  20140512T000000  1225000         4       4.50   \n",
      "4               7  1321400060  20140627T000000   257500         3       2.25   \n",
      "...           ...         ...              ...      ...       ...        ...   \n",
      "15124       21609   263000018  20140521T000000   360000         3       2.50   \n",
      "15125       21610  6600060120  20150223T000000   400000         4       2.50   \n",
      "15126       21611  1523300141  20140623T000000   402101         2       0.75   \n",
      "15127       21612   291310100  20150116T000000   400000         3       2.50   \n",
      "15128       21613  1523300157  20141015T000000   325000         2       0.75   \n",
      "\n",
      "       sqft_living  sqft_lot  floors  waterfront  ...  grade  sqft_above  \\\n",
      "0             2570      7242     2.0           0  ...      7        2170   \n",
      "1             1960      5000     1.0           0  ...      7        1050   \n",
      "2             1680      8080     1.0           0  ...      8        1680   \n",
      "3             5420    101930     1.0           0  ...     11        3890   \n",
      "4             1715      6819     2.0           0  ...      7        1715   \n",
      "...            ...       ...     ...         ...  ...    ...         ...   \n",
      "15124         1530      1131     3.0           0  ...      8        1530   \n",
      "15125         2310      5813     2.0           0  ...      8        2310   \n",
      "15126         1020      1350     2.0           0  ...      7        1020   \n",
      "15127         1600      2388     2.0           0  ...      8        1600   \n",
      "15128         1020      1076     2.0           0  ...      7        1020   \n",
      "\n",
      "       sqft_basement  yr_built  yr_renovated  zipcode      lat     long  \\\n",
      "0                400      1951          1991    98125  47.7210 -122.319   \n",
      "1                910      1965             0    98136  47.5208 -122.393   \n",
      "2                  0      1987             0    98074  47.6168 -122.045   \n",
      "3               1530      2001             0    98053  47.6561 -122.005   \n",
      "4                  0      1995             0    98003  47.3097 -122.327   \n",
      "...              ...       ...           ...      ...      ...      ...   \n",
      "15124              0      2009             0    98103  47.6993 -122.346   \n",
      "15125              0      2014             0    98146  47.5107 -122.362   \n",
      "15126              0      2009             0    98144  47.5944 -122.299   \n",
      "15127              0      2004             0    98027  47.5345 -122.069   \n",
      "15128              0      2008             0    98144  47.5941 -122.299   \n",
      "\n",
      "       sqft_living15  sqft_lot15  \n",
      "0               1690        7639  \n",
      "1               1360        5000  \n",
      "2               1800        7503  \n",
      "3               4760      101930  \n",
      "4               2238        6819  \n",
      "...              ...         ...  \n",
      "15124           1530        1509  \n",
      "15125           1830        7200  \n",
      "15126           1020        2007  \n",
      "15127           1410        1287  \n",
      "15128           1020        1357  \n",
      "\n",
      "[15129 rows x 22 columns]\n"
     ]
    }
   ],
   "source": [
    "train = pd.read_csv (r'/Users/zhuxiaoran/Desktop/STA243/train.data.csv') \n",
    "test = pd.read_csv (r'/Users/zhuxiaoran/Desktop/STA243/test.data.csv')\n",
    "print(train)"
   ]
  },
  {
   "cell_type": "markdown",
   "id": "000a591a",
   "metadata": {},
   "source": [
    "### (a)"
   ]
  },
  {
   "cell_type": "code",
   "execution_count": 57,
   "id": "c62a0d08",
   "metadata": {},
   "outputs": [],
   "source": [
    "#fit regression model using train datasets\n",
    "reg = sm.ols(formula = \"price ~ bedrooms + bathrooms + sqft_living + sqft_lot\", data = train).fit()"
   ]
  },
  {
   "cell_type": "code",
   "execution_count": 58,
   "id": "b986b382",
   "metadata": {},
   "outputs": [
    {
     "name": "stdout",
     "output_type": "stream",
     "text": [
      "0.5101138530794578\n",
      "0.5049944614036821\n"
     ]
    }
   ],
   "source": [
    "#compute R square using train datasets\n",
    "r2_train = reg.rsquared\n",
    "print(r2_train)\n",
    "\n",
    "#compute R square using test datasets\n",
    "r2_test = 1-sum((reg.predict(test) - test[\"price\"]) ** 2) / sum((test[\"price\"] - mean(test[\"price\"])) ** 2)\n",
    "print(r2_test)"
   ]
  },
  {
   "cell_type": "code",
   "execution_count": 22,
   "id": "6f67e2de",
   "metadata": {},
   "outputs": [
    {
     "name": "stdout",
     "output_type": "stream",
     "text": [
      "[[-0.15147017]\n",
      " [ 0.00773629]\n",
      " [ 0.7918328 ]\n",
      " [-0.04514359]]\n"
     ]
    }
   ],
   "source": [
    "reg_1 = linear_model.LinearRegression()\n",
    "reg_1 = reg_1.fit(x, y)\n",
    "coef = reg_1.coef_\n",
    "coef = coef.reshape((4, 1))\n",
    "print(coef)"
   ]
  },
  {
   "cell_type": "markdown",
   "id": "ec7f7b2c",
   "metadata": {},
   "source": [
    "### (b)"
   ]
  },
  {
   "cell_type": "code",
   "execution_count": 59,
   "id": "ddb4acd2",
   "metadata": {},
   "outputs": [
    {
     "name": "stdout",
     "output_type": "stream",
     "text": [
      "   bedrooms  bathrooms  sqft_living  sqft_lot\n",
      "0         8         25        50000    225000\n"
     ]
    }
   ],
   "source": [
    "house = pd.read_csv (r'/Users/zhuxiaoran/Desktop/STA243/fancyhouse.csv') \n",
    "\n",
    "house_1 = house.iloc[: , 1:5]\n",
    "print(house_1)"
   ]
  },
  {
   "cell_type": "code",
   "execution_count": 60,
   "id": "00ade33f",
   "metadata": {},
   "outputs": [
    {
     "name": "stdout",
     "output_type": "stream",
     "text": [
      "0    1.543677e+07\n",
      "dtype: float64\n"
     ]
    }
   ],
   "source": [
    "y_pred = reg.predict(house_1)\n",
    "print(y_pred)"
   ]
  },
  {
   "cell_type": "markdown",
   "id": "912b4721",
   "metadata": {},
   "source": [
    "### (c)"
   ]
  },
  {
   "cell_type": "code",
   "execution_count": 61,
   "id": "9ed087ab",
   "metadata": {},
   "outputs": [],
   "source": [
    "reg_2 = sm.ols(formula = \"price ~ (bedrooms * bathrooms) + bedrooms + bathrooms + sqft_living + sqft_lot\", data = train).fit()"
   ]
  },
  {
   "cell_type": "code",
   "execution_count": 62,
   "id": "ec807826",
   "metadata": {},
   "outputs": [
    {
     "name": "stdout",
     "output_type": "stream",
     "text": [
      "0.5173532927738305\n",
      "0.5105355458590244\n"
     ]
    }
   ],
   "source": [
    "#compute R square using train datasets\n",
    "r2_train = reg_2.rsquared\n",
    "print(r2_train)\n",
    "\n",
    "#compute R square using test datasets\n",
    "r2_test = 1-sum((reg_2.predict(test) - test[\"price\"]) ** 2) / sum((test[\"price\"] - mean(test[\"price\"])) ** 2)\n",
    "print(r2_test)"
   ]
  },
  {
   "cell_type": "code",
   "execution_count": 121,
   "id": "e4045224",
   "metadata": {},
   "outputs": [
    {
     "name": "stdout",
     "output_type": "stream",
     "text": [
      "[[-0.32877205]\n",
      " [-0.23326364]\n",
      " [ 0.77192759]\n",
      " [-0.04491517]\n",
      " [ 0.38964848]]\n"
     ]
    }
   ],
   "source": [
    "reg_3 = linear_model.LinearRegression()\n",
    "reg_3 = reg_3.fit(X, y)\n",
    "coef_1 = reg_3.coef_\n",
    "coef_1 = coef_1.reshape((5, 1))\n",
    "print(coef_1)"
   ]
  },
  {
   "cell_type": "markdown",
   "id": "516e50b2",
   "metadata": {},
   "source": [
    "### (d)"
   ]
  },
  {
   "cell_type": "markdown",
   "id": "182a7c98",
   "metadata": {},
   "source": [
    "### Gradient decent"
   ]
  },
  {
   "cell_type": "code",
   "execution_count": 63,
   "id": "da037125",
   "metadata": {},
   "outputs": [
    {
     "name": "stdout",
     "output_type": "stream",
     "text": [
      "[9.38593151e-01 7.72097316e-01 9.18729486e+02 3.88703680e+04]\n",
      "[[-0.3897894   0.18478631  0.54466986 -0.19175331]\n",
      " [ 0.67563496  1.15616645 -0.11929055 -0.24943221]\n",
      " [-0.3897894  -0.13900707 -0.42405926 -0.17019447]\n",
      " ...\n",
      " [-1.45521375 -1.75797398 -1.14244264 -0.34333407]\n",
      " [-0.3897894   0.50857969 -0.51113603 -0.31662993]\n",
      " [-1.45521375 -1.75797398 -1.14244264 -0.35038314]]\n",
      "2.6553091398028097e-05\n"
     ]
    }
   ],
   "source": [
    "#initializtion\n",
    "x = train.iloc[: , 4:8]\n",
    "y = train.iloc[: , 3]\n",
    "\n",
    "#arrray form\n",
    "y = np.array(y)\n",
    "x = np.array(x)\n",
    "\n",
    "y = y.reshape((15129, 1))\n",
    "\n",
    "#compute mean using train datasets\n",
    "mean_x = x.mean(axis = 0)\n",
    "\n",
    "mean_y = y.mean(axis = 0)\n",
    "\n",
    "#compute \n",
    "sd_x = x.std(axis = 0)\n",
    "sd_y = y.std(axis = 0)\n",
    "print(sd_x)\n",
    "\n",
    "x = preprocessing.scale(x, axis = 0)\n",
    "y = preprocessing.scale(y, axis = 0)\n",
    "\n",
    "print(x)\n",
    "\n",
    "#initializate beta\n",
    "beta = np.zeros(4)\n",
    "beta = beta.reshape((4, 1))\n",
    "\n",
    "#compute stepsize\n",
    "matrix = x.T @ x\n",
    "c = np.linalg.svd(matrix)\n",
    "A = c[1]\n",
    "ita = 1 / (A[0] + A[3])\n",
    "print(ita)\n",
    "\n",
    "#tolerance level\n",
    "tol = 1e-6"
   ]
  },
  {
   "cell_type": "code",
   "execution_count": 64,
   "id": "aa5ef491",
   "metadata": {},
   "outputs": [
    {
     "name": "stdout",
     "output_type": "stream",
     "text": [
      "[[-0.60829035]\n",
      " [-1.04862522]\n",
      " [-1.40543949]\n",
      " [-0.19094618]]\n"
     ]
    }
   ],
   "source": [
    "#compute gradient\n",
    "def compute_grad(beta, x, y):\n",
    "    grad = (-2) * np.dot(x.T, y) + 2 * (x.T @ x @ beta)\n",
    "    grad = grad / len(y)\n",
    "    return grad\n",
    "grad = compute_grad(beta, x, y)\n",
    "print(grad)"
   ]
  },
  {
   "cell_type": "code",
   "execution_count": 65,
   "id": "020a748b",
   "metadata": {},
   "outputs": [
    {
     "name": "stdout",
     "output_type": "stream",
     "text": [
      "[[1.61519893e-05]\n",
      " [2.78442413e-05]\n",
      " [3.73187631e-05]\n",
      " [5.07021127e-06]]\n"
     ]
    }
   ],
   "source": [
    "#update gradient\n",
    "def update_beta(beta, ita, grad):\n",
    "    beta = beta - ita * grad\n",
    "    return beta\n",
    "beta = update_beta(beta, ita, grad)\n",
    "print(beta)"
   ]
  },
  {
   "cell_type": "code",
   "execution_count": 66,
   "id": "a4ed0de6",
   "metadata": {},
   "outputs": [
    {
     "name": "stdout",
     "output_type": "stream",
     "text": [
      "1.8658383096119362\n"
     ]
    }
   ],
   "source": [
    "def compute_error(grad):\n",
    "    error = la.norm(grad, 2)\n",
    "    return error\n",
    "error = compute_error(grad)\n",
    "print(error)"
   ]
  },
  {
   "cell_type": "code",
   "execution_count": 55,
   "id": "2a039983",
   "metadata": {},
   "outputs": [
    {
     "name": "stdout",
     "output_type": "stream",
     "text": [
      "[[-0.15146982]\n",
      " [ 0.00773797]\n",
      " [ 0.79183082]\n",
      " [-0.04514333]] 1000001\n",
      "(1000000,)\n"
     ]
    }
   ],
   "source": [
    "#gd process\n",
    "i = 1\n",
    "cost = []\n",
    "\n",
    "#the number of max-iteration is 1000000\n",
    "while error >= tol and i <= 1000000:\n",
    "    grad = compute_grad(beta, x, y)\n",
    "    error = compute_error(grad)\n",
    "    cost.append(error)\n",
    "    beta = update_beta(beta, ita, grad)\n",
    "    i += 1\n",
    "print(beta, i)\n",
    "print(np.shape(cost))"
   ]
  },
  {
   "cell_type": "code",
   "execution_count": 56,
   "id": "559d3b1b",
   "metadata": {},
   "outputs": [
    {
     "data": {
      "image/png": "[encoded data removed]",
      "text/plain": [
       "<Figure size 576x432 with 1 Axes>"
      ]
     },
     "metadata": {
      "needs_background": "light"
     },
     "output_type": "display_data"
    }
   ],
   "source": [
    "#plot\n",
    "fig, bx = plt.subplots(figsize=(8,6))\n",
    "bx.plot(np.arange(i-1), cost, 'r') \n",
    "bx.set_xlabel('Iterations') \n",
    "bx.set_ylabel('error') \n",
    "bx.set_title('Error vs. Training Epoch') \n",
    "plt.show()"
   ]
  },
  {
   "cell_type": "markdown",
   "id": "5f7d043d",
   "metadata": {},
   "source": [
    "#### (1) Model 1 without interaction term"
   ]
  },
  {
   "cell_type": "code",
   "execution_count": 57,
   "id": "b5370be7",
   "metadata": {},
   "outputs": [
    {
     "name": "stdout",
     "output_type": "stream",
     "text": [
      "0.5101138530778362\n"
     ]
    }
   ],
   "source": [
    "#computing R^2 using train datasets\n",
    "R2_model_1_train = 1- sum((y - np.dot(x, beta)) ** 2)[0] / sum((y - sum(y) / len(y)) ** 2)[0]\n",
    "print(R2_model_1_train)"
   ]
  },
  {
   "cell_type": "code",
   "execution_count": 67,
   "id": "1523475a",
   "metadata": {},
   "outputs": [
    {
     "name": "stdout",
     "output_type": "stream",
     "text": [
      "[[-0.3897894  -1.43418059 -0.9682891  -0.23270996]\n",
      " [-1.45521375 -1.43418059 -1.41455756 -0.12079952]\n",
      " [-0.3897894   0.50857969  1.62224494 -0.12604773]\n",
      " ...\n",
      " [-0.3897894  -0.13900707 -0.6308666  -0.34909682]\n",
      " [ 0.67563496  0.50857969  0.49024687 -0.22311396]\n",
      " [ 0.67563496  1.80375321  1.56782195 -0.19283383]] [[-0.86068373]\n",
      " [-0.97471694]\n",
      " [ 0.33843401]\n",
      " ...\n",
      " [-0.2970494 ]\n",
      " [ 0.19741657]\n",
      " [ 1.27737096]]\n",
      "(6484, 4) (6484, 1)\n"
     ]
    }
   ],
   "source": [
    "x_te = test.iloc[: , 4:8]\n",
    "y_te = test.iloc[: , 3]\n",
    "\n",
    "#arrray form\n",
    "y_te = np.array(y_te)\n",
    "x_te = np.array(x_te)\n",
    "\n",
    "y_te = y_te.reshape((6484, 1))\n",
    "\n",
    "x_te = (x_te - mean_x) / sd_x\n",
    "y_te = (y_te - mean_y) / sd_y\n",
    "print(x_te, y_te)\n",
    "print(np.shape(x_te), np.shape(y_te))"
   ]
  },
  {
   "cell_type": "code",
   "execution_count": 59,
   "id": "31b5397d",
   "metadata": {},
   "outputs": [
    {
     "name": "stdout",
     "output_type": "stream",
     "text": [
      "0.5049944973342906\n"
     ]
    }
   ],
   "source": [
    "#computing R^2 using test datasets\n",
    "R2_model_1_test = 1- sum((y_te - np.dot(x_te, beta)) ** 2)[0] / sum((y_te - sum(y_te) / len(y_te)) ** 2)[0]\n",
    "print(R2_model_1_test)"
   ]
  },
  {
   "cell_type": "code",
   "execution_count": 68,
   "id": "b6de895c",
   "metadata": {},
   "outputs": [],
   "source": [
    "#make predictions\n",
    "house_11 = np.array(house_1)\n",
    "house_11 = (house_11 - mean_x)/ sd_x"
   ]
  },
  {
   "cell_type": "code",
   "execution_count": 61,
   "id": "65146913",
   "metadata": {},
   "outputs": [
    {
     "name": "stdout",
     "output_type": "stream",
     "text": [
      "[[40.54739121]]\n"
     ]
    }
   ],
   "source": [
    "y_predict_1 = house_11 @ beta\n",
    "print(y_predict_1)"
   ]
  },
  {
   "cell_type": "code",
   "execution_count": 62,
   "id": "5cbc870a",
   "metadata": {},
   "outputs": [
    {
     "name": "stdout",
     "output_type": "stream",
     "text": [
      "[[15436751.09079698]]\n"
     ]
    }
   ],
   "source": [
    "y_predict_1 = y_predict_1 * sd_y + mean_y\n",
    "print(y_predict_1)"
   ]
  },
  {
   "cell_type": "markdown",
   "id": "67d30263",
   "metadata": {},
   "source": [
    "#### (2) Model 2 with interaction term"
   ]
  },
  {
   "cell_type": "code",
   "execution_count": 69,
   "id": "078e02ad",
   "metadata": {},
   "outputs": [
    {
     "name": "stdout",
     "output_type": "stream",
     "text": [
      "[[-0.3897894   0.18478631  0.54466986 -0.19175331 -0.16763147]\n",
      " [ 0.67563496  1.15616645 -0.11929055 -0.24943221  1.07009255]\n",
      " [-0.3897894  -0.13900707 -0.42405926 -0.17019447 -0.34444919]\n",
      " ...\n",
      " [-1.45521375 -1.75797398 -1.14244264 -0.34333407 -1.40535549]\n",
      " [-0.3897894   0.50857969 -0.51113603 -0.31662993  0.00918625]\n",
      " [-1.45521375 -1.75797398 -1.14244264 -0.35038314 -1.40535549]]\n"
     ]
    }
   ],
   "source": [
    "train1 = np.array(train)\n",
    "inter = train1[:, 4] * train1[:, 5] \n",
    "inter_mean = inter.mean(axis = 0)\n",
    "inter_sd = inter.std(axis = 0)\n",
    "\n",
    "inter = preprocessing.scale(inter, axis = 0)\n",
    "inter = inter.reshape((15129, 1))\n",
    "\n",
    "X = np.column_stack((x, inter))\n",
    "print(X)"
   ]
  },
  {
   "cell_type": "code",
   "execution_count": 64,
   "id": "d2c59884",
   "metadata": {},
   "outputs": [
    {
     "name": "stdout",
     "output_type": "stream",
     "text": [
      "2.058157174922585e-05\n",
      "[[-0.27019451]\n",
      " [-0.15108553]\n",
      " [ 0.77314796]\n",
      " [-0.04458696]\n",
      " [ 0.26526678]] 1000001\n",
      "(1000000,)\n"
     ]
    }
   ],
   "source": [
    "j = 1\n",
    "cost_1 = []\n",
    "beta = np.zeros(5)\n",
    "beta = beta.reshape((5, 1))\n",
    "\n",
    "matrix_1 = X.T @ X\n",
    "B = np.linalg.svd(matrix_1)\n",
    "A1 = B[1]\n",
    "ita = 1 / (A1[0] + A1[4])\n",
    "print(ita)\n",
    "\n",
    "while error >= tol and j <= 1000000:\n",
    "    grad = compute_grad(beta, X, y)\n",
    "    error = compute_error(grad)\n",
    "    cost_1.append(error)\n",
    "    beta = update_beta(beta, ita, grad)\n",
    "    j += 1\n",
    "print(beta, j)\n",
    "print(np.shape(cost_1))"
   ]
  },
  {
   "cell_type": "code",
   "execution_count": 65,
   "id": "b7475163",
   "metadata": {},
   "outputs": [
    {
     "data": {
      "image/png": "[encoded data removed]",
      "text/plain": [
       "<Figure size 576x432 with 1 Axes>"
      ]
     },
     "metadata": {
      "needs_background": "light"
     },
     "output_type": "display_data"
    }
   ],
   "source": [
    "#plot\n",
    "fig, bx = plt.subplots(figsize=(8,6))\n",
    "bx.plot(np.arange(j-1), cost_1, 'r') \n",
    "bx.set_xlabel('Iterations') \n",
    "bx.set_ylabel('error') \n",
    "bx.set_title('Error vs. Training Epoch') \n",
    "plt.show()"
   ]
  },
  {
   "cell_type": "code",
   "execution_count": 66,
   "id": "c26127fc",
   "metadata": {},
   "outputs": [
    {
     "name": "stdout",
     "output_type": "stream",
     "text": [
      "0.5165996950311904\n"
     ]
    }
   ],
   "source": [
    "#computing R^2 using train datasets\n",
    "R2_model_2_train = 1 - sum((y - np.dot(X, beta)) ** 2)[0] / sum((y - sum(y) / len(y)) ** 2)[0]\n",
    "print(R2_model_2_train)"
   ]
  },
  {
   "cell_type": "code",
   "execution_count": 70,
   "id": "69691d0d",
   "metadata": {},
   "outputs": [
    {
     "name": "stdout",
     "output_type": "stream",
     "text": [
      "[[-0.3897893973798207 -1.4341805945974897 -0.9682890960231543\n",
      "  -0.23270995977910205 -1.0517200593699358]\n",
      " [-1.4552137502179976 -1.4341805945974897 -1.4145575638872028\n",
      "  -0.12079951948272659 -1.2874770162709708]\n",
      " [-0.3897893973798207 0.508579687953025 1.6222449369437622\n",
      "  -0.12604773323455662 0.00918624668472214]\n",
      " ...\n",
      " [-0.3897893973798207 -0.13900707289714656 -0.6308665959308248\n",
      "  -0.34909681768733253 -0.3444491886668305]\n",
      " [0.6756349554583562 0.508579687953025 0.4902468721178827\n",
      "  -0.22311396110541284 0.5985786389373099]\n",
      " [0.6756349554583562 1.8037532096533682 1.5678219530579025\n",
      "  -0.19283382588039355 1.5416064665414502]]\n"
     ]
    }
   ],
   "source": [
    "test1 = np.array(test)\n",
    "inter_test = test1[:, 4] * test1[:, 5] \n",
    "\n",
    "inter_test = (inter_test - inter_mean) / inter_sd \n",
    "\n",
    "X_1 = np.column_stack((x_te, inter_test))\n",
    "print(X_1)"
   ]
  },
  {
   "cell_type": "code",
   "execution_count": 68,
   "id": "002b93bc",
   "metadata": {},
   "outputs": [
    {
     "name": "stdout",
     "output_type": "stream",
     "text": [
      "0.5102078240983928\n"
     ]
    }
   ],
   "source": [
    "R2_model_2_test = 1 - sum((y_te - np.dot(X_1, beta)) ** 2)[0] / sum((y_te - sum(y_te) / len(y_te)) ** 2)[0]\n",
    "print(R2_model_2_test)"
   ]
  },
  {
   "cell_type": "code",
   "execution_count": 71,
   "id": "3f953d61",
   "metadata": {},
   "outputs": [
    {
     "name": "stdout",
     "output_type": "stream",
     "text": [
      "[[ 4.93733237 29.64998393 52.17031237  5.41040615 45.39240045]]\n"
     ]
    }
   ],
   "source": [
    "house_12 = np.array(house_1)\n",
    "house_12 = house_12.reshape(4, 1)\n",
    "house_inter = house_12[0] * house_12[1]\n",
    "house_inter = (house_inter - inter_mean)/ inter_sd\n",
    "house_final = np.column_stack((house_11, house_inter))\n",
    "print(house_final)"
   ]
  },
  {
   "cell_type": "code",
   "execution_count": 70,
   "id": "85c239e0",
   "metadata": {},
   "outputs": [
    {
     "name": "stdout",
     "output_type": "stream",
     "text": [
      "[[46.32150893]]\n"
     ]
    }
   ],
   "source": [
    "y_predict_2 = house_final @ beta\n",
    "print(y_predict_2)"
   ]
  },
  {
   "cell_type": "code",
   "execution_count": 71,
   "id": "f24d701f",
   "metadata": {},
   "outputs": [
    {
     "name": "stdout",
     "output_type": "stream",
     "text": [
      "[[17558374.5015014]]\n"
     ]
    }
   ],
   "source": [
    "y_predict_2 = y_predict_2 * sd_y + mean_y\n",
    "print(y_predict_2)"
   ]
  },
  {
   "cell_type": "markdown",
   "id": "8359b4b5",
   "metadata": {},
   "source": [
    "### (e)"
   ]
  },
  {
   "cell_type": "markdown",
   "id": "dbc2ade3",
   "metadata": {},
   "source": [
    "#### Calculate beta with SGD -- Model-1"
   ]
  },
  {
   "cell_type": "code",
   "execution_count": 98,
   "id": "eb2ee666",
   "metadata": {},
   "outputs": [],
   "source": [
    "#initializate theta\n",
    "theta = np.ones(4)\n",
    "theta = theta.reshape((4, 1))"
   ]
  },
  {
   "cell_type": "code",
   "execution_count": 99,
   "id": "a2e04284",
   "metadata": {},
   "outputs": [],
   "source": [
    "def compute_sto_grad(theta, x, y):\n",
    "    grad = (-2) * np.dot(x.T, y) + 2 * (x.T @ x @ theta)\n",
    "    return grad"
   ]
  },
  {
   "cell_type": "code",
   "execution_count": 100,
   "id": "feec0118",
   "metadata": {},
   "outputs": [],
   "source": [
    "def sgd(x, y, theta_0, max_iter, loss, c):\n",
    "    \n",
    "    def stepsize(t):\n",
    "        return c / (t + 1)\n",
    "    \n",
    "    cur_iter = 1\n",
    "    theta = theta_0\n",
    "    error = 1\n",
    "    n = len(x)\n",
    "    \n",
    "    for cur_iter in range(max_iter):  \n",
    "        #set tolerance level is 1e-6\n",
    "        if error > 1e-6:\n",
    "            i = np.random.choice(n, size = 1, replace = False)\n",
    "            gradient = compute_sto_grad(theta, x[i], y[i])\n",
    "            theta = theta - stepsize(cur_iter) * gradient\n",
    "            error = la.norm(gradient, 2)\n",
    "            diff = la.norm((theta - coef), 2)\n",
    "            loss.append(diff)\n",
    "        else:\n",
    "            break \n",
    "\n",
    "    return theta"
   ]
  },
  {
   "cell_type": "code",
   "execution_count": 105,
   "id": "5a3efadd",
   "metadata": {},
   "outputs": [
    {
     "name": "stdout",
     "output_type": "stream",
     "text": [
      "[[-0.41569106]\n",
      " [-0.40085405]\n",
      " [ 1.32981046]\n",
      " [-0.23061423]] [[-0.20985349]\n",
      " [ 0.04530521]\n",
      " [ 0.7823556 ]\n",
      " [-0.04445006]] [[-0.1540242 ]\n",
      " [ 0.10747525]\n",
      " [ 0.58350387]\n",
      " [-0.07964497]]\n"
     ]
    }
   ],
   "source": [
    "max_iter = 1000\n",
    "c1, c2, c3 = 1.0, 1.5, 2.0\n",
    "loss_1, loss_2, loss_3 = [], [], []\n",
    "\n",
    "theta_1 = sgd(x, y, theta, max_iter, loss_1, c1)\n",
    "theta_2 = sgd(x, y, theta, max_iter, loss_2, c2)\n",
    "theta_3 = sgd(x, y, theta, max_iter, loss_3, c3)\n",
    "print(theta_1, theta_2, theta_3)"
   ]
  },
  {
   "cell_type": "code",
   "execution_count": 117,
   "id": "6074d0d6",
   "metadata": {},
   "outputs": [
    {
     "data": {
      "image/png": "[encoded data removed]",
      "text/plain": [
       "<Figure size 576x432 with 1 Axes>"
      ]
     },
     "metadata": {
      "needs_background": "light"
     },
     "output_type": "display_data"
    }
   ],
   "source": [
    "fig, bx = plt.subplots(figsize=(8,6))\n",
    "bx.plot(np.arange(1000), loss_1, 'green', label = 'c = 1.0')\n",
    "bx.plot(np.arange(1000), loss_2, 'orange', label = 'c = 1.5')\n",
    "bx.plot(np.arange(1000), loss_3, 'red', label = 'c = 2.0')\n",
    "bx.set_xlabel('Iterations') \n",
    "bx.set_ylabel('error') \n",
    "bx.set_title('Error vs. Training Epoch') \n",
    "plt.legend()\n",
    "plt.show()"
   ]
  },
  {
   "cell_type": "code",
   "execution_count": 108,
   "id": "fd3e5643",
   "metadata": {},
   "outputs": [
    {
     "name": "stdout",
     "output_type": "stream",
     "text": [
      "[[-0.15341925]\n",
      " [ 0.00771326]\n",
      " [ 0.79792381]\n",
      " [-0.04568012]]\n"
     ]
    }
   ],
   "source": [
    "max_iter = 2000000\n",
    "c2 = 1.5\n",
    "loss = []\n",
    "\n",
    "theta_2 = sgd(x, y, theta, max_iter, loss, c2)\n",
    "print(theta_2)\n",
    "#the number of iteration is 458944"
   ]
  },
  {
   "cell_type": "code",
   "execution_count": 111,
   "id": "c29335ce",
   "metadata": {},
   "outputs": [
    {
     "name": "stdout",
     "output_type": "stream",
     "text": [
      "0.5100875451774329\n"
     ]
    }
   ],
   "source": [
    "R2_model_1_sgd_train = 1- sum((y - np.dot(x, theta_2)) ** 2)[0] / sum((y - sum(y) / len(y)) ** 2)[0]\n",
    "print(R2_model_1_sgd_train)"
   ]
  },
  {
   "cell_type": "code",
   "execution_count": 112,
   "id": "4a549830",
   "metadata": {},
   "outputs": [
    {
     "name": "stdout",
     "output_type": "stream",
     "text": [
      "0.5049130721492737\n"
     ]
    }
   ],
   "source": [
    "R2_model_1_sgd_test = 1- sum((y_te - np.dot(x_te, theta_2)) ** 2)[0] / sum((y_te - sum(y_te) / len(y_te)) ** 2)[0]\n",
    "print(R2_model_1_sgd_test)"
   ]
  },
  {
   "cell_type": "code",
   "execution_count": 113,
   "id": "d610da76",
   "metadata": {},
   "outputs": [
    {
     "name": "stdout",
     "output_type": "stream",
     "text": [
      "[[40.85200261]]\n",
      "[[15548676.53096694]]\n"
     ]
    }
   ],
   "source": [
    "y_predict_1_sgd = house_11 @ theta_2\n",
    "print(y_predict_1_sgd)\n",
    "\n",
    "y_predict_1_sgd = y_predict_1_sgd * sd_y + mean_y\n",
    "print(y_predict_1_sgd)"
   ]
  },
  {
   "cell_type": "markdown",
   "id": "49829ebe",
   "metadata": {},
   "source": [
    "#### Calculate beta using SGD -- Model-2"
   ]
  },
  {
   "cell_type": "code",
   "execution_count": 141,
   "id": "f3a4841b",
   "metadata": {},
   "outputs": [],
   "source": [
    "def sgd_1(x, y, theta_0, max_iter, loss, c):\n",
    "    \n",
    "    def stepsize(t):\n",
    "        return c / (t + 1)\n",
    "    \n",
    "    cur_iter = 1\n",
    "    theta = theta_0\n",
    "    error = 1\n",
    "    n = len(x)\n",
    "    \n",
    "    for cur_iter in range(max_iter):  \n",
    "        #set tolerance level is 1e-6\n",
    "        if error > 1e-6:\n",
    "            i = np.random.choice(n, size = 1, replace = False)\n",
    "            gradient = compute_sto_grad(theta, x[i], y[i])\n",
    "            theta = theta - stepsize(cur_iter) * gradient\n",
    "            error = la.norm(gradient, 2)\n",
    "            diff = la.norm((theta - coef_1), 2)\n",
    "            loss.append(diff)\n",
    "        else:\n",
    "            break \n",
    "\n",
    "    return theta"
   ]
  },
  {
   "cell_type": "code",
   "execution_count": 146,
   "id": "d9328ae8",
   "metadata": {},
   "outputs": [
    {
     "name": "stdout",
     "output_type": "stream",
     "text": [
      "[[-0.4851394 ]\n",
      " [-0.74981943]\n",
      " [ 0.71658043]\n",
      " [-0.07156431]\n",
      " [ 1.2850432 ]] [[-0.792417  ]\n",
      " [-1.14815197]\n",
      " [ 0.01811575]\n",
      " [ 0.00635118]\n",
      " [ 2.30914917]] [[-0.66388646]\n",
      " [-0.70550637]\n",
      " [ 0.79259609]\n",
      " [-0.09223527]\n",
      " [ 0.96488228]]\n"
     ]
    }
   ],
   "source": [
    "theta = np.zeros(5)\n",
    "theta = theta.reshape((5, 1))\n",
    "\n",
    "max_iter = 2000\n",
    "b1, b2, b3 = 1.0, 1.5, 2.0\n",
    "loss_4, loss_5, loss_6 = [], [], []\n",
    "\n",
    "theta_21 = sgd_1(X, y, theta, max_iter, loss_4, b1)\n",
    "theta_22 = sgd_1(X, y, theta, max_iter, loss_5, b2)\n",
    "theta_23 = sgd_1(X, y, theta, max_iter, loss_6, b3)\n",
    "print(theta_21, theta_22, theta_23)"
   ]
  },
  {
   "cell_type": "code",
   "execution_count": 147,
   "id": "b232873e",
   "metadata": {},
   "outputs": [
    {
     "data": {
      "image/png": "[encoded data removed]",
      "text/plain": [
       "<Figure size 576x432 with 1 Axes>"
      ]
     },
     "metadata": {
      "needs_background": "light"
     },
     "output_type": "display_data"
    }
   ],
   "source": [
    "fig, bx = plt.subplots(figsize=(8,6))\n",
    "bx.plot(np.arange(2000), loss_4, 'green', label = 'c = 1.0')\n",
    "bx.plot(np.arange(2000), loss_5, 'orange', label = 'c = 1.5')\n",
    "bx.plot(np.arange(2000), loss_6, 'red', label = 'c = 2.0')\n",
    "bx.set_xlabel('Iterations') \n",
    "bx.set_ylabel('error') \n",
    "bx.set_title('Error vs. Training Epoch') \n",
    "plt.legend()\n",
    "plt.show()"
   ]
  },
  {
   "cell_type": "code",
   "execution_count": 148,
   "id": "01aea010",
   "metadata": {},
   "outputs": [
    {
     "name": "stdout",
     "output_type": "stream",
     "text": [
      "[[-0.32405872]\n",
      " [-0.22703159]\n",
      " [ 0.76932865]\n",
      " [-0.04505542]\n",
      " [ 0.38963711]]\n"
     ]
    }
   ],
   "source": [
    "theta = np.zeros(5)\n",
    "theta = theta.reshape((5, 1))\n",
    "max_iter = 3000000\n",
    "theta = sgd_1(X, y, theta, max_iter, loss_2, b1)\n",
    "print(theta)\n",
    "\n",
    "#the number of iteration is 890367"
   ]
  },
  {
   "cell_type": "code",
   "execution_count": 151,
   "id": "921019e4",
   "metadata": {},
   "outputs": [
    {
     "name": "stdout",
     "output_type": "stream",
     "text": [
      "0.5172943336592097\n"
     ]
    }
   ],
   "source": [
    "R2_model_2_sgd_train = 1 - sum((y - np.dot(X, theta)) ** 2)[0] / sum((y - sum(y) / len(y)) ** 2)[0]\n",
    "print(R2_model_2_sgd_train)"
   ]
  },
  {
   "cell_type": "code",
   "execution_count": 152,
   "id": "f66a9e4b",
   "metadata": {},
   "outputs": [
    {
     "name": "stdout",
     "output_type": "stream",
     "text": [
      "0.5105048138882426\n"
     ]
    }
   ],
   "source": [
    "R2_model_2_sgd_test = 1 - sum((y_te - np.dot(X_1, theta)) ** 2)[0] / sum((y_te - sum(y_te) / len(y_te)) ** 2)[0]\n",
    "print(R2_model_2_sgd_test)"
   ]
  },
  {
   "cell_type": "code",
   "execution_count": 153,
   "id": "5f0233cf",
   "metadata": {},
   "outputs": [
    {
     "name": "stdout",
     "output_type": "stream",
     "text": [
      "[[49.247443]]\n"
     ]
    }
   ],
   "source": [
    "y_predict_2_sgd = house_final @ theta\n",
    "print(y_predict_2_sgd)"
   ]
  },
  {
   "cell_type": "code",
   "execution_count": 154,
   "id": "11b21262",
   "metadata": {},
   "outputs": [
    {
     "name": "stdout",
     "output_type": "stream",
     "text": [
      "[[18633470.39349658]]\n"
     ]
    }
   ],
   "source": [
    "y_predict_2_sgd = y_predict_2_sgd * sd_y + mean_y\n",
    "print(y_predict_2_sgd)"
   ]
  }
 ],
 "metadata": {
  "kernelspec": {
   "display_name": "Python 3 (ipykernel)",
   "language": "python",
   "name": "python3"
  },
  "language_info": {
   "codemirror_mode": {
    "name": "ipython",
    "version": 3
   },
   "file_extension": ".py",
   "mimetype": "text/x-python",
   "name": "python",
   "nbconvert_exporter": "python",
   "pygments_lexer": "ipython3",
   "version": "3.9.7"
  }
 },
 "nbformat": 4,
 "nbformat_minor": 5
}
